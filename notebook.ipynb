{
  "nbformat": 4,
  "nbformat_minor": 0,
  "metadata": {
    "colab": {
      "provenance": [],
      "collapsed_sections": [
        "QbGyiCXE8p6m"
      ]
    },
    "kernelspec": {
      "name": "python3",
      "display_name": "Python 3"
    },
    "language_info": {
      "name": "python"
    },
    "accelerator": "GPU",
    "gpuClass": "standard"
  },
  "cells": [
    {
      "cell_type": "markdown",
      "source": [
        "# 1. Setup"
      ],
      "metadata": {
        "id": "eN8rAiuIl0bJ"
      }
    },
    {
      "cell_type": "markdown",
      "source": [
        "## 1.1 Import libraries"
      ],
      "metadata": {
        "id": "Mdk4wi5pl4zE"
      }
    },
    {
      "cell_type": "code",
      "source": [
        "from IPython.display import clear_output"
      ],
      "metadata": {
        "id": "jldXeANXzPFW"
      },
      "execution_count": 1,
      "outputs": []
    },
    {
      "cell_type": "code",
      "source": [
        "!pip install fbgemm-gpu\n",
        "#!pip install fbgemm-gpu-cpu\n",
        "\n",
        "!pip install torch\n",
        "!pip install torchrec\n",
        "#!pip install torchrec-cpu\n",
        "!pip install pyre_extensions\n",
        "\n",
        "#clear_output()"
      ],
      "metadata": {
        "colab": {
          "base_uri": "https://localhost:8080/"
        },
        "id": "Bl4AHouXz8lO",
        "outputId": "76d1f66b-9164-4a5a-dd50-6691c012f33a"
      },
      "execution_count": 2,
      "outputs": [
        {
          "output_type": "stream",
          "name": "stdout",
          "text": [
            "Requirement already satisfied: fbgemm-gpu in /usr/local/lib/python3.10/dist-packages (0.4.1)\n",
            "Requirement already satisfied: torch in /usr/local/lib/python3.10/dist-packages (2.0.1+cu118)\n",
            "Requirement already satisfied: filelock in /usr/local/lib/python3.10/dist-packages (from torch) (3.12.2)\n",
            "Requirement already satisfied: typing-extensions in /usr/local/lib/python3.10/dist-packages (from torch) (4.6.3)\n",
            "Requirement already satisfied: sympy in /usr/local/lib/python3.10/dist-packages (from torch) (1.11.1)\n",
            "Requirement already satisfied: networkx in /usr/local/lib/python3.10/dist-packages (from torch) (3.1)\n",
            "Requirement already satisfied: jinja2 in /usr/local/lib/python3.10/dist-packages (from torch) (3.1.2)\n",
            "Requirement already satisfied: triton==2.0.0 in /usr/local/lib/python3.10/dist-packages (from torch) (2.0.0)\n",
            "Requirement already satisfied: cmake in /usr/local/lib/python3.10/dist-packages (from triton==2.0.0->torch) (3.25.2)\n",
            "Requirement already satisfied: lit in /usr/local/lib/python3.10/dist-packages (from triton==2.0.0->torch) (16.0.6)\n",
            "Requirement already satisfied: MarkupSafe>=2.0 in /usr/local/lib/python3.10/dist-packages (from jinja2->torch) (2.1.3)\n",
            "Requirement already satisfied: mpmath>=0.19 in /usr/local/lib/python3.10/dist-packages (from sympy->torch) (1.3.0)\n",
            "Requirement already satisfied: torchrec in /usr/local/lib/python3.10/dist-packages (0.4.0)\n",
            "Requirement already satisfied: iopath in /usr/local/lib/python3.10/dist-packages (from torchrec) (0.1.10)\n",
            "Requirement already satisfied: pandas in /usr/local/lib/python3.10/dist-packages (from torchrec) (1.5.3)\n",
            "Requirement already satisfied: tabulate in /usr/local/lib/python3.10/dist-packages (from torchrec) (0.8.10)\n",
            "Requirement already satisfied: torchmetrics in /usr/local/lib/python3.10/dist-packages (from torchrec) (0.11.4)\n",
            "Requirement already satisfied: tqdm in /usr/local/lib/python3.10/dist-packages (from torchrec) (4.65.0)\n",
            "Requirement already satisfied: fbgemm-gpu in /usr/local/lib/python3.10/dist-packages (from torchrec) (0.4.1)\n",
            "Requirement already satisfied: typing-extensions in /usr/local/lib/python3.10/dist-packages (from iopath->torchrec) (4.6.3)\n",
            "Requirement already satisfied: portalocker in /usr/local/lib/python3.10/dist-packages (from iopath->torchrec) (2.7.0)\n",
            "Requirement already satisfied: python-dateutil>=2.8.1 in /usr/local/lib/python3.10/dist-packages (from pandas->torchrec) (2.8.2)\n",
            "Requirement already satisfied: pytz>=2020.1 in /usr/local/lib/python3.10/dist-packages (from pandas->torchrec) (2022.7.1)\n",
            "Requirement already satisfied: numpy>=1.21.0 in /usr/local/lib/python3.10/dist-packages (from pandas->torchrec) (1.22.4)\n",
            "Requirement already satisfied: torch>=1.8.1 in /usr/local/lib/python3.10/dist-packages (from torchmetrics->torchrec) (2.0.1+cu118)\n",
            "Requirement already satisfied: packaging in /usr/local/lib/python3.10/dist-packages (from torchmetrics->torchrec) (23.1)\n",
            "Requirement already satisfied: six>=1.5 in /usr/local/lib/python3.10/dist-packages (from python-dateutil>=2.8.1->pandas->torchrec) (1.16.0)\n",
            "Requirement already satisfied: filelock in /usr/local/lib/python3.10/dist-packages (from torch>=1.8.1->torchmetrics->torchrec) (3.12.2)\n",
            "Requirement already satisfied: sympy in /usr/local/lib/python3.10/dist-packages (from torch>=1.8.1->torchmetrics->torchrec) (1.11.1)\n",
            "Requirement already satisfied: networkx in /usr/local/lib/python3.10/dist-packages (from torch>=1.8.1->torchmetrics->torchrec) (3.1)\n",
            "Requirement already satisfied: jinja2 in /usr/local/lib/python3.10/dist-packages (from torch>=1.8.1->torchmetrics->torchrec) (3.1.2)\n",
            "Requirement already satisfied: triton==2.0.0 in /usr/local/lib/python3.10/dist-packages (from torch>=1.8.1->torchmetrics->torchrec) (2.0.0)\n",
            "Requirement already satisfied: cmake in /usr/local/lib/python3.10/dist-packages (from triton==2.0.0->torch>=1.8.1->torchmetrics->torchrec) (3.25.2)\n",
            "Requirement already satisfied: lit in /usr/local/lib/python3.10/dist-packages (from triton==2.0.0->torch>=1.8.1->torchmetrics->torchrec) (16.0.6)\n",
            "Requirement already satisfied: MarkupSafe>=2.0 in /usr/local/lib/python3.10/dist-packages (from jinja2->torch>=1.8.1->torchmetrics->torchrec) (2.1.3)\n",
            "Requirement already satisfied: mpmath>=0.19 in /usr/local/lib/python3.10/dist-packages (from sympy->torch>=1.8.1->torchmetrics->torchrec) (1.3.0)\n",
            "Requirement already satisfied: pyre_extensions in /usr/local/lib/python3.10/dist-packages (0.0.30)\n",
            "Requirement already satisfied: typing-inspect in /usr/local/lib/python3.10/dist-packages (from pyre_extensions) (0.9.0)\n",
            "Requirement already satisfied: typing-extensions in /usr/local/lib/python3.10/dist-packages (from pyre_extensions) (4.6.3)\n",
            "Requirement already satisfied: mypy-extensions>=0.3.0 in /usr/local/lib/python3.10/dist-packages (from typing-inspect->pyre_extensions) (1.0.0)\n"
          ]
        }
      ]
    },
    {
      "cell_type": "code",
      "source": [
        "import pandas as pd\n",
        "import numpy as np\n",
        "import random\n",
        "\n",
        "import torch\n",
        "from torch.utils.data.dataset import IterableDataset\n",
        "from torchrec.datasets.utils import Batch\n",
        "from torchrec.sparse.jagged_tensor import KeyedJaggedTensor"
      ],
      "metadata": {
        "id": "BIJsphyZc9jN"
      },
      "execution_count": 3,
      "outputs": []
    },
    {
      "cell_type": "code",
      "source": [
        "device = torch.device('cuda' if torch.cuda.is_available() else 'cpu')\n",
        "print(f\"Device: '{device}'\")"
      ],
      "metadata": {
        "id": "JlJfk-Ld-huX",
        "colab": {
          "base_uri": "https://localhost:8080/"
        },
        "outputId": "2bb3a4c7-a350-46ce-9a1d-accd8e3e4691"
      },
      "execution_count": 4,
      "outputs": [
        {
          "output_type": "stream",
          "name": "stdout",
          "text": [
            "Device: 'cuda'\n"
          ]
        }
      ]
    },
    {
      "cell_type": "code",
      "source": [
        "!git clone https://github.com/linafaik08/recommender_systems_dlrm.git"
      ],
      "metadata": {
        "colab": {
          "base_uri": "https://localhost:8080/"
        },
        "id": "xutEyx-wWnlc",
        "outputId": "d8da77a4-f152-441d-da78-a080891d5ad3"
      },
      "execution_count": 5,
      "outputs": [
        {
          "output_type": "stream",
          "name": "stdout",
          "text": [
            "fatal: destination path 'recommender_systems_dlrm' already exists and is not an empty directory.\n"
          ]
        }
      ]
    },
    {
      "cell_type": "code",
      "source": [
        "cd recommender_systems_dlrm/src"
      ],
      "metadata": {
        "colab": {
          "base_uri": "https://localhost:8080/"
        },
        "id": "W04Rd2wUn75Z",
        "outputId": "a3c1eeea-c235-41e7-b517-17d05c2ec9b0"
      },
      "execution_count": 6,
      "outputs": [
        {
          "output_type": "stream",
          "name": "stdout",
          "text": [
            "/content/recommender_systems_dlrm/src\n"
          ]
        }
      ]
    },
    {
      "cell_type": "code",
      "source": [
        "from batch import *\n",
        "from model import *"
      ],
      "metadata": {
        "id": "i3dB9Qznn9Pa"
      },
      "execution_count": 7,
      "outputs": []
    },
    {
      "cell_type": "markdown",
      "source": [
        "## 1.2. Generate data"
      ],
      "metadata": {
        "id": "pK4TklR5bd-U"
      }
    },
    {
      "cell_type": "code",
      "execution_count": 8,
      "metadata": {
        "id": "VuIFsXhrbX-I"
      },
      "outputs": [],
      "source": [
        "n_rows = 10000\n",
        "\n",
        "train_df = pd.DataFrame({\n",
        "    \"feat1\": np.random.rand(n_rows),\n",
        "    \"feat2\": np.random.rand(n_rows),\n",
        "    \"cat1\": np.random.choice([\"A\",\"B\",\"C\"], n_rows),\n",
        "    \"cat2\": [random.choice([[\"A\",\"B\",\"C\"], [\"A\",\"B\"],  [\"A\",\"C\"], [\"B\",\"C\"], [\"B\"], []]) for i in range(n_rows)],\n",
        "    \"label\": np.random.choice([0,1], n_rows)\n",
        "})\n",
        "\n",
        "n_rows = int(n_rows*0.2)\n",
        "\n",
        "test_df = pd.DataFrame({\n",
        "    \"feat1\": np.random.rand(n_rows),\n",
        "    \"feat2\": np.random.rand(n_rows),\n",
        "    \"cat1\": np.random.choice([\"A\",\"B\",\"C\"], n_rows),\n",
        "    \"cat2\": [random.choice([[\"A\",\"B\",\"C\"], [\"A\",\"B\"],  [\"A\",\"C\"], [\"B\",\"C\"], [\"B\"], []]) for i in range(n_rows)],\n",
        "    \"label\": np.random.choice([0,1], n_rows)\n",
        "})\n",
        "\n",
        "n_rows = int(n_rows*0.2)\n",
        "\n",
        "val_df = pd.DataFrame({\n",
        "    \"feat1\": np.random.rand(n_rows),\n",
        "    \"feat2\": np.random.rand(n_rows),\n",
        "    \"cat1\": np.random.choice([\"A\",\"B\",\"C\"], n_rows),\n",
        "    \"cat2\": [random.choice([[\"A\",\"B\",\"C\"], [\"A\",\"B\"],  [\"A\",\"C\"], [\"B\",\"C\"], [\"B\"], []]) for i in range(n_rows)],\n",
        "    \"label\": np.random.choice([0,1], n_rows)\n",
        "})"
      ]
    },
    {
      "cell_type": "code",
      "source": [
        "train_df.head()"
      ],
      "metadata": {
        "id": "yvd-ffqINzAa",
        "colab": {
          "base_uri": "https://localhost:8080/",
          "height": 206
        },
        "outputId": "70d5d794-9750-4b21-8160-3fded0ff7cf5"
      },
      "execution_count": 9,
      "outputs": [
        {
          "output_type": "execute_result",
          "data": {
            "text/plain": [
              "      feat1     feat2 cat1       cat2  label\n",
              "0  0.336064  0.451204    C  [A, B, C]      0\n",
              "1  0.096554  0.802365    A        [B]      1\n",
              "2  0.877572  0.822153    A     [A, C]      1\n",
              "3  0.072148  0.428623    B     [A, C]      0\n",
              "4  0.966170  0.258741    B        [B]      1"
            ],
            "text/html": [
              "\n",
              "  <div id=\"df-290c0e28-9096-4261-943d-b268f5f98582\">\n",
              "    <div class=\"colab-df-container\">\n",
              "      <div>\n",
              "<style scoped>\n",
              "    .dataframe tbody tr th:only-of-type {\n",
              "        vertical-align: middle;\n",
              "    }\n",
              "\n",
              "    .dataframe tbody tr th {\n",
              "        vertical-align: top;\n",
              "    }\n",
              "\n",
              "    .dataframe thead th {\n",
              "        text-align: right;\n",
              "    }\n",
              "</style>\n",
              "<table border=\"1\" class=\"dataframe\">\n",
              "  <thead>\n",
              "    <tr style=\"text-align: right;\">\n",
              "      <th></th>\n",
              "      <th>feat1</th>\n",
              "      <th>feat2</th>\n",
              "      <th>cat1</th>\n",
              "      <th>cat2</th>\n",
              "      <th>label</th>\n",
              "    </tr>\n",
              "  </thead>\n",
              "  <tbody>\n",
              "    <tr>\n",
              "      <th>0</th>\n",
              "      <td>0.336064</td>\n",
              "      <td>0.451204</td>\n",
              "      <td>C</td>\n",
              "      <td>[A, B, C]</td>\n",
              "      <td>0</td>\n",
              "    </tr>\n",
              "    <tr>\n",
              "      <th>1</th>\n",
              "      <td>0.096554</td>\n",
              "      <td>0.802365</td>\n",
              "      <td>A</td>\n",
              "      <td>[B]</td>\n",
              "      <td>1</td>\n",
              "    </tr>\n",
              "    <tr>\n",
              "      <th>2</th>\n",
              "      <td>0.877572</td>\n",
              "      <td>0.822153</td>\n",
              "      <td>A</td>\n",
              "      <td>[A, C]</td>\n",
              "      <td>1</td>\n",
              "    </tr>\n",
              "    <tr>\n",
              "      <th>3</th>\n",
              "      <td>0.072148</td>\n",
              "      <td>0.428623</td>\n",
              "      <td>B</td>\n",
              "      <td>[A, C]</td>\n",
              "      <td>0</td>\n",
              "    </tr>\n",
              "    <tr>\n",
              "      <th>4</th>\n",
              "      <td>0.966170</td>\n",
              "      <td>0.258741</td>\n",
              "      <td>B</td>\n",
              "      <td>[B]</td>\n",
              "      <td>1</td>\n",
              "    </tr>\n",
              "  </tbody>\n",
              "</table>\n",
              "</div>\n",
              "      <button class=\"colab-df-convert\" onclick=\"convertToInteractive('df-290c0e28-9096-4261-943d-b268f5f98582')\"\n",
              "              title=\"Convert this dataframe to an interactive table.\"\n",
              "              style=\"display:none;\">\n",
              "        \n",
              "  <svg xmlns=\"http://www.w3.org/2000/svg\" height=\"24px\"viewBox=\"0 0 24 24\"\n",
              "       width=\"24px\">\n",
              "    <path d=\"M0 0h24v24H0V0z\" fill=\"none\"/>\n",
              "    <path d=\"M18.56 5.44l.94 2.06.94-2.06 2.06-.94-2.06-.94-.94-2.06-.94 2.06-2.06.94zm-11 1L8.5 8.5l.94-2.06 2.06-.94-2.06-.94L8.5 2.5l-.94 2.06-2.06.94zm10 10l.94 2.06.94-2.06 2.06-.94-2.06-.94-.94-2.06-.94 2.06-2.06.94z\"/><path d=\"M17.41 7.96l-1.37-1.37c-.4-.4-.92-.59-1.43-.59-.52 0-1.04.2-1.43.59L10.3 9.45l-7.72 7.72c-.78.78-.78 2.05 0 2.83L4 21.41c.39.39.9.59 1.41.59.51 0 1.02-.2 1.41-.59l7.78-7.78 2.81-2.81c.8-.78.8-2.07 0-2.86zM5.41 20L4 18.59l7.72-7.72 1.47 1.35L5.41 20z\"/>\n",
              "  </svg>\n",
              "      </button>\n",
              "      \n",
              "  <style>\n",
              "    .colab-df-container {\n",
              "      display:flex;\n",
              "      flex-wrap:wrap;\n",
              "      gap: 12px;\n",
              "    }\n",
              "\n",
              "    .colab-df-convert {\n",
              "      background-color: #E8F0FE;\n",
              "      border: none;\n",
              "      border-radius: 50%;\n",
              "      cursor: pointer;\n",
              "      display: none;\n",
              "      fill: #1967D2;\n",
              "      height: 32px;\n",
              "      padding: 0 0 0 0;\n",
              "      width: 32px;\n",
              "    }\n",
              "\n",
              "    .colab-df-convert:hover {\n",
              "      background-color: #E2EBFA;\n",
              "      box-shadow: 0px 1px 2px rgba(60, 64, 67, 0.3), 0px 1px 3px 1px rgba(60, 64, 67, 0.15);\n",
              "      fill: #174EA6;\n",
              "    }\n",
              "\n",
              "    [theme=dark] .colab-df-convert {\n",
              "      background-color: #3B4455;\n",
              "      fill: #D2E3FC;\n",
              "    }\n",
              "\n",
              "    [theme=dark] .colab-df-convert:hover {\n",
              "      background-color: #434B5C;\n",
              "      box-shadow: 0px 1px 3px 1px rgba(0, 0, 0, 0.15);\n",
              "      filter: drop-shadow(0px 1px 2px rgba(0, 0, 0, 0.3));\n",
              "      fill: #FFFFFF;\n",
              "    }\n",
              "  </style>\n",
              "\n",
              "      <script>\n",
              "        const buttonEl =\n",
              "          document.querySelector('#df-290c0e28-9096-4261-943d-b268f5f98582 button.colab-df-convert');\n",
              "        buttonEl.style.display =\n",
              "          google.colab.kernel.accessAllowed ? 'block' : 'none';\n",
              "\n",
              "        async function convertToInteractive(key) {\n",
              "          const element = document.querySelector('#df-290c0e28-9096-4261-943d-b268f5f98582');\n",
              "          const dataTable =\n",
              "            await google.colab.kernel.invokeFunction('convertToInteractive',\n",
              "                                                     [key], {});\n",
              "          if (!dataTable) return;\n",
              "\n",
              "          const docLinkHtml = 'Like what you see? Visit the ' +\n",
              "            '<a target=\"_blank\" href=https://colab.research.google.com/notebooks/data_table.ipynb>data table notebook</a>'\n",
              "            + ' to learn more about interactive tables.';\n",
              "          element.innerHTML = '';\n",
              "          dataTable['output_type'] = 'display_data';\n",
              "          await google.colab.output.renderOutput(dataTable, element);\n",
              "          const docLink = document.createElement('div');\n",
              "          docLink.innerHTML = docLinkHtml;\n",
              "          element.appendChild(docLink);\n",
              "        }\n",
              "      </script>\n",
              "    </div>\n",
              "  </div>\n",
              "  "
            ]
          },
          "metadata": {},
          "execution_count": 9
        }
      ]
    },
    {
      "cell_type": "code",
      "source": [
        "cols_dense = [\"feat1\", \"feat2\"]\n",
        "cols_sparse = ['cat1', 'cat2']"
      ],
      "metadata": {
        "id": "sCMcB7Z9-rad"
      },
      "execution_count": 10,
      "outputs": []
    },
    {
      "cell_type": "markdown",
      "source": [
        "# 2. Features"
      ],
      "metadata": {
        "id": "-AEwAYsvfEnk"
      }
    },
    {
      "cell_type": "markdown",
      "source": [
        "## 2.1. Encoding sparse features"
      ],
      "metadata": {
        "id": "52aJlQHrfIyV"
      }
    },
    {
      "cell_type": "code",
      "source": [
        "def encode(col, map_rev):\n",
        "    return [map_rev.get(item,item) for item in col]"
      ],
      "metadata": {
        "id": "ty8BmvFNfIIm"
      },
      "execution_count": 11,
      "outputs": []
    },
    {
      "cell_type": "code",
      "source": [
        "map_sparse = {}\n",
        "map_sparse_rev = {}"
      ],
      "metadata": {
        "id": "3IQX1gKSfQoa"
      },
      "execution_count": 12,
      "outputs": []
    },
    {
      "cell_type": "code",
      "source": [
        "for feat in cols_sparse:\n",
        "    map_sparse[feat] = {i: c for i,c in enumerate(train_df[feat].explode().value_counts().index)}\n",
        "    map_sparse_rev[feat] = {v:k for k, v in map_sparse[feat].items()}\n",
        "\n",
        "    train_df[feat+'_enc'] = train_df[feat].apply(lambda x: encode(x, map_sparse_rev[feat]))\n",
        "    test_df[feat+'_enc'] = test_df[feat].apply(lambda x: encode(x, map_sparse_rev[feat]))\n",
        "    val_df[feat+'_enc'] = test_df[feat].apply(lambda x: encode(x, map_sparse_rev[feat]))"
      ],
      "metadata": {
        "id": "BKzzKw1DfR1N"
      },
      "execution_count": 13,
      "outputs": []
    },
    {
      "cell_type": "code",
      "source": [
        "map_sparse"
      ],
      "metadata": {
        "id": "rep9DaZLf9EB",
        "colab": {
          "base_uri": "https://localhost:8080/"
        },
        "outputId": "f828a039-6729-423a-ebec-b915707b6b83"
      },
      "execution_count": 14,
      "outputs": [
        {
          "output_type": "execute_result",
          "data": {
            "text/plain": [
              "{'cat1': {0: 'C', 1: 'A', 2: 'B'}, 'cat2': {0: 'B', 1: 'C', 2: 'A'}}"
            ]
          },
          "metadata": {},
          "execution_count": 14
        }
      ]
    },
    {
      "cell_type": "markdown",
      "source": [
        "## 2.2. Build data batches"
      ],
      "metadata": {
        "id": "uTDgEdawk7jf"
      }
    },
    {
      "cell_type": "code",
      "source": [
        "train_data = RecBatch(\n",
        "    data = train_df,\n",
        "    cols_sparse = [c+'_enc' for c in cols_sparse],\n",
        "    cols_dense = cols_dense,\n",
        "    col_label = \"label\",\n",
        "    batch_size = 100,\n",
        "    num_generated_batches = 20,\n",
        "    seed = 123,\n",
        "    device = device\n",
        ")"
      ],
      "metadata": {
        "colab": {
          "base_uri": "https://localhost:8080/"
        },
        "id": "3MsRsSGOoTjb",
        "outputId": "cfe0e266-d2ae-4c9f-b40e-17ef4885768f"
      },
      "execution_count": 15,
      "outputs": [
        {
          "output_type": "stream",
          "name": "stdout",
          "text": [
            "replace False\n"
          ]
        }
      ]
    },
    {
      "cell_type": "code",
      "source": [
        "test_data = RecBatch(\n",
        "    data = test_df,\n",
        "    cols_sparse = [c+'_enc' for c in cols_sparse],\n",
        "    cols_dense = cols_dense,\n",
        "    col_label = \"label\",\n",
        "    batch_size = 100,\n",
        "    num_generated_batches = 3,\n",
        "    seed = 123,\n",
        "    device = device\n",
        ")"
      ],
      "metadata": {
        "id": "VHdYpc6CU1De",
        "colab": {
          "base_uri": "https://localhost:8080/"
        },
        "outputId": "279e0646-3604-4bae-9971-a0c04d1fe69f"
      },
      "execution_count": 16,
      "outputs": [
        {
          "output_type": "stream",
          "name": "stdout",
          "text": [
            "replace False\n"
          ]
        }
      ]
    },
    {
      "cell_type": "code",
      "source": [
        "val_data = RecBatch(\n",
        "    data = val_df,\n",
        "    cols_sparse = [c+'_enc' for c in cols_sparse],\n",
        "    cols_dense = cols_dense,\n",
        "    col_label = \"label\",\n",
        "    batch_size = 100,\n",
        "    num_generated_batches = None,\n",
        "    seed = 123,\n",
        "    device = device\n",
        ")"
      ],
      "metadata": {
        "id": "RNjjIVPFo-4r"
      },
      "execution_count": 17,
      "outputs": []
    },
    {
      "cell_type": "markdown",
      "source": [
        "### Check"
      ],
      "metadata": {
        "id": "JmP624VN3jxP"
      }
    },
    {
      "cell_type": "code",
      "source": [
        "i=0\n",
        "\n",
        "batch = build_batch(val_data.batches[i], cols_sparse)\n",
        "sparse_features = batch.sparse_features"
      ],
      "metadata": {
        "id": "fPKq8CMl2EO5"
      },
      "execution_count": 18,
      "outputs": []
    },
    {
      "cell_type": "code",
      "source": [
        "sparse_features[val_data.cols_sparse[0]].to_dense()[:5]"
      ],
      "metadata": {
        "colab": {
          "base_uri": "https://localhost:8080/"
        },
        "id": "lBHgsxrC2prX",
        "outputId": "43527e0f-41cc-4a8d-eb8f-2976421eea2a"
      },
      "execution_count": 19,
      "outputs": [
        {
          "output_type": "execute_result",
          "data": {
            "text/plain": [
              "[tensor([2], device='cuda:0'),\n",
              " tensor([0], device='cuda:0'),\n",
              " tensor([1], device='cuda:0'),\n",
              " tensor([1], device='cuda:0'),\n",
              " tensor([2], device='cuda:0')]"
            ]
          },
          "metadata": {},
          "execution_count": 19
        }
      ]
    },
    {
      "cell_type": "code",
      "source": [
        "val_df.iloc[:5]"
      ],
      "metadata": {
        "colab": {
          "base_uri": "https://localhost:8080/",
          "height": 0
        },
        "id": "ZH3Bvay02wqN",
        "outputId": "a12a5883-a04e-413f-9568-9b3de8c9bf52"
      },
      "execution_count": 20,
      "outputs": [
        {
          "output_type": "execute_result",
          "data": {
            "text/plain": [
              "      feat1     feat2 cat1       cat2  label cat1_enc   cat2_enc\n",
              "0  0.445078  0.124188    B  [A, B, C]      1      [2]        [0]\n",
              "1  0.672566  0.161864    B  [A, B, C]      1      [0]        [0]\n",
              "2  0.461935  0.552659    B     [A, C]      0      [1]  [2, 0, 1]\n",
              "3  0.849517  0.144644    A     [A, B]      0      [1]     [2, 0]\n",
              "4  0.835506  0.339795    C     [A, C]      0      [2]     [2, 1]"
            ],
            "text/html": [
              "\n",
              "  <div id=\"df-b8c89207-189b-451c-b5a2-34cc3b8163e5\">\n",
              "    <div class=\"colab-df-container\">\n",
              "      <div>\n",
              "<style scoped>\n",
              "    .dataframe tbody tr th:only-of-type {\n",
              "        vertical-align: middle;\n",
              "    }\n",
              "\n",
              "    .dataframe tbody tr th {\n",
              "        vertical-align: top;\n",
              "    }\n",
              "\n",
              "    .dataframe thead th {\n",
              "        text-align: right;\n",
              "    }\n",
              "</style>\n",
              "<table border=\"1\" class=\"dataframe\">\n",
              "  <thead>\n",
              "    <tr style=\"text-align: right;\">\n",
              "      <th></th>\n",
              "      <th>feat1</th>\n",
              "      <th>feat2</th>\n",
              "      <th>cat1</th>\n",
              "      <th>cat2</th>\n",
              "      <th>label</th>\n",
              "      <th>cat1_enc</th>\n",
              "      <th>cat2_enc</th>\n",
              "    </tr>\n",
              "  </thead>\n",
              "  <tbody>\n",
              "    <tr>\n",
              "      <th>0</th>\n",
              "      <td>0.445078</td>\n",
              "      <td>0.124188</td>\n",
              "      <td>B</td>\n",
              "      <td>[A, B, C]</td>\n",
              "      <td>1</td>\n",
              "      <td>[2]</td>\n",
              "      <td>[0]</td>\n",
              "    </tr>\n",
              "    <tr>\n",
              "      <th>1</th>\n",
              "      <td>0.672566</td>\n",
              "      <td>0.161864</td>\n",
              "      <td>B</td>\n",
              "      <td>[A, B, C]</td>\n",
              "      <td>1</td>\n",
              "      <td>[0]</td>\n",
              "      <td>[0]</td>\n",
              "    </tr>\n",
              "    <tr>\n",
              "      <th>2</th>\n",
              "      <td>0.461935</td>\n",
              "      <td>0.552659</td>\n",
              "      <td>B</td>\n",
              "      <td>[A, C]</td>\n",
              "      <td>0</td>\n",
              "      <td>[1]</td>\n",
              "      <td>[2, 0, 1]</td>\n",
              "    </tr>\n",
              "    <tr>\n",
              "      <th>3</th>\n",
              "      <td>0.849517</td>\n",
              "      <td>0.144644</td>\n",
              "      <td>A</td>\n",
              "      <td>[A, B]</td>\n",
              "      <td>0</td>\n",
              "      <td>[1]</td>\n",
              "      <td>[2, 0]</td>\n",
              "    </tr>\n",
              "    <tr>\n",
              "      <th>4</th>\n",
              "      <td>0.835506</td>\n",
              "      <td>0.339795</td>\n",
              "      <td>C</td>\n",
              "      <td>[A, C]</td>\n",
              "      <td>0</td>\n",
              "      <td>[2]</td>\n",
              "      <td>[2, 1]</td>\n",
              "    </tr>\n",
              "  </tbody>\n",
              "</table>\n",
              "</div>\n",
              "      <button class=\"colab-df-convert\" onclick=\"convertToInteractive('df-b8c89207-189b-451c-b5a2-34cc3b8163e5')\"\n",
              "              title=\"Convert this dataframe to an interactive table.\"\n",
              "              style=\"display:none;\">\n",
              "        \n",
              "  <svg xmlns=\"http://www.w3.org/2000/svg\" height=\"24px\"viewBox=\"0 0 24 24\"\n",
              "       width=\"24px\">\n",
              "    <path d=\"M0 0h24v24H0V0z\" fill=\"none\"/>\n",
              "    <path d=\"M18.56 5.44l.94 2.06.94-2.06 2.06-.94-2.06-.94-.94-2.06-.94 2.06-2.06.94zm-11 1L8.5 8.5l.94-2.06 2.06-.94-2.06-.94L8.5 2.5l-.94 2.06-2.06.94zm10 10l.94 2.06.94-2.06 2.06-.94-2.06-.94-.94-2.06-.94 2.06-2.06.94z\"/><path d=\"M17.41 7.96l-1.37-1.37c-.4-.4-.92-.59-1.43-.59-.52 0-1.04.2-1.43.59L10.3 9.45l-7.72 7.72c-.78.78-.78 2.05 0 2.83L4 21.41c.39.39.9.59 1.41.59.51 0 1.02-.2 1.41-.59l7.78-7.78 2.81-2.81c.8-.78.8-2.07 0-2.86zM5.41 20L4 18.59l7.72-7.72 1.47 1.35L5.41 20z\"/>\n",
              "  </svg>\n",
              "      </button>\n",
              "      \n",
              "  <style>\n",
              "    .colab-df-container {\n",
              "      display:flex;\n",
              "      flex-wrap:wrap;\n",
              "      gap: 12px;\n",
              "    }\n",
              "\n",
              "    .colab-df-convert {\n",
              "      background-color: #E8F0FE;\n",
              "      border: none;\n",
              "      border-radius: 50%;\n",
              "      cursor: pointer;\n",
              "      display: none;\n",
              "      fill: #1967D2;\n",
              "      height: 32px;\n",
              "      padding: 0 0 0 0;\n",
              "      width: 32px;\n",
              "    }\n",
              "\n",
              "    .colab-df-convert:hover {\n",
              "      background-color: #E2EBFA;\n",
              "      box-shadow: 0px 1px 2px rgba(60, 64, 67, 0.3), 0px 1px 3px 1px rgba(60, 64, 67, 0.15);\n",
              "      fill: #174EA6;\n",
              "    }\n",
              "\n",
              "    [theme=dark] .colab-df-convert {\n",
              "      background-color: #3B4455;\n",
              "      fill: #D2E3FC;\n",
              "    }\n",
              "\n",
              "    [theme=dark] .colab-df-convert:hover {\n",
              "      background-color: #434B5C;\n",
              "      box-shadow: 0px 1px 3px 1px rgba(0, 0, 0, 0.15);\n",
              "      filter: drop-shadow(0px 1px 2px rgba(0, 0, 0, 0.3));\n",
              "      fill: #FFFFFF;\n",
              "    }\n",
              "  </style>\n",
              "\n",
              "      <script>\n",
              "        const buttonEl =\n",
              "          document.querySelector('#df-b8c89207-189b-451c-b5a2-34cc3b8163e5 button.colab-df-convert');\n",
              "        buttonEl.style.display =\n",
              "          google.colab.kernel.accessAllowed ? 'block' : 'none';\n",
              "\n",
              "        async function convertToInteractive(key) {\n",
              "          const element = document.querySelector('#df-b8c89207-189b-451c-b5a2-34cc3b8163e5');\n",
              "          const dataTable =\n",
              "            await google.colab.kernel.invokeFunction('convertToInteractive',\n",
              "                                                     [key], {});\n",
              "          if (!dataTable) return;\n",
              "\n",
              "          const docLinkHtml = 'Like what you see? Visit the ' +\n",
              "            '<a target=\"_blank\" href=https://colab.research.google.com/notebooks/data_table.ipynb>data table notebook</a>'\n",
              "            + ' to learn more about interactive tables.';\n",
              "          element.innerHTML = '';\n",
              "          dataTable['output_type'] = 'display_data';\n",
              "          await google.colab.output.renderOutput(dataTable, element);\n",
              "          const docLink = document.createElement('div');\n",
              "          docLink.innerHTML = docLinkHtml;\n",
              "          element.appendChild(docLink);\n",
              "        }\n",
              "      </script>\n",
              "    </div>\n",
              "  </div>\n",
              "  "
            ]
          },
          "metadata": {},
          "execution_count": 20
        }
      ]
    },
    {
      "cell_type": "code",
      "source": [
        "sparse_features[val_data.cols_sparse[1]].to_dense()[:5]"
      ],
      "metadata": {
        "colab": {
          "base_uri": "https://localhost:8080/"
        },
        "id": "BkCS2G0i3Yol",
        "outputId": "6cb3393e-78ec-44b0-d428-f7caf42fbb72"
      },
      "execution_count": 21,
      "outputs": [
        {
          "output_type": "execute_result",
          "data": {
            "text/plain": [
              "[tensor([0], device='cuda:0'),\n",
              " tensor([0], device='cuda:0'),\n",
              " tensor([2, 0, 1], device='cuda:0'),\n",
              " tensor([2, 0], device='cuda:0'),\n",
              " tensor([2, 1], device='cuda:0')]"
            ]
          },
          "metadata": {},
          "execution_count": 21
        }
      ]
    },
    {
      "cell_type": "markdown",
      "source": [
        "# 3. Training / Test"
      ],
      "metadata": {
        "id": "7IhwAHxXI5DT"
      }
    },
    {
      "cell_type": "code",
      "source": [
        "embedding_dim = 10\n",
        "num_embeddings_per_feature = {c+'_enc': len(v) for c, v in map_sparse.items()}\n",
        "\n",
        "dense_arch_layer_sizes = [512, 256, embedding_dim]\n",
        "over_arch_layer_sizes = [512, 512, 256, 1]\n",
        "\n",
        "adagrad = False\n",
        "eps = 1e-8 # Epsilon for Adagrad optimizer\n",
        "\n",
        "learning_rate = 0.01# 0.01 #15.0"
      ],
      "metadata": {
        "id": "HWL_3QfQJS8v"
      },
      "execution_count": 22,
      "outputs": []
    },
    {
      "cell_type": "code",
      "source": [
        "model_dlrm = DLRMCustom(\n",
        "        cols_dense, cols_sparse,\n",
        "        embedding_dim, num_embeddings_per_feature,\n",
        "        dense_arch_layer_sizes, over_arch_layer_sizes,\n",
        "        adagrad, learning_rate, eps,\n",
        "        device)"
      ],
      "metadata": {
        "id": "zfsL_Yhq4wdt"
      },
      "execution_count": 23,
      "outputs": []
    },
    {
      "cell_type": "code",
      "source": [
        "n_epochs = 100\n",
        "e_patience = 10"
      ],
      "metadata": {
        "id": "7WIphZTJ4x70"
      },
      "execution_count": 24,
      "outputs": []
    },
    {
      "cell_type": "code",
      "source": [
        "scores = model_dlrm.train_test(train_data, test_data, n_epochs, e_patience, nb_batches = None)"
      ],
      "metadata": {
        "colab": {
          "base_uri": "https://localhost:8080/"
        },
        "id": "JI911gW_4zPf",
        "outputId": "71364ce8-0e96-4f4d-b260-cb43b365aade"
      },
      "execution_count": 25,
      "outputs": [
        {
          "output_type": "stream",
          "name": "stderr",
          "text": [
            " 22%|██▏       | 22/100 [00:06<00:23,  3.29it/s, epoch=23, loss_train=0.693, losses_test=0.692, auc_train=0.513, auc_test=0.529]"
          ]
        },
        {
          "output_type": "stream",
          "name": "stdout",
          "text": [
            "Early stopping\n"
          ]
        },
        {
          "output_type": "stream",
          "name": "stderr",
          "text": [
            "\n"
          ]
        }
      ]
    },
    {
      "cell_type": "code",
      "source": [
        "results = pd.DataFrame(scores).T\n",
        "results = results.reset_index().rename(columns = {'index':'epoch'})\n",
        "\n",
        "plot_results(results)"
      ],
      "metadata": {
        "id": "Jzo-AWRnJjMA",
        "colab": {
          "base_uri": "https://localhost:8080/",
          "height": 542
        },
        "outputId": "bdad53c9-eb0f-4ebe-fb52-84f05afc604d"
      },
      "execution_count": 26,
      "outputs": [
        {
          "output_type": "display_data",
          "data": {
            "text/html": [
              "<html>\n",
              "<head><meta charset=\"utf-8\" /></head>\n",
              "<body>\n",
              "    <div>            <script src=\"https://cdnjs.cloudflare.com/ajax/libs/mathjax/2.7.5/MathJax.js?config=TeX-AMS-MML_SVG\"></script><script type=\"text/javascript\">if (window.MathJax && window.MathJax.Hub && window.MathJax.Hub.Config) {window.MathJax.Hub.Config({SVG: {font: \"STIX-Web\"}});}</script>                <script type=\"text/javascript\">window.PlotlyConfig = {MathJaxConfig: 'local'};</script>\n",
              "        <script src=\"https://cdn.plot.ly/plotly-2.18.2.min.js\"></script>                <div id=\"0106957f-38d6-4501-a9ce-37e989b38af0\" class=\"plotly-graph-div\" style=\"height:525px; width:100%;\"></div>            <script type=\"text/javascript\">                                    window.PLOTLYENV=window.PLOTLYENV || {};                                    if (document.getElementById(\"0106957f-38d6-4501-a9ce-37e989b38af0\")) {                    Plotly.newPlot(                        \"0106957f-38d6-4501-a9ce-37e989b38af0\",                        [{\"name\":\"loss_train\",\"x\":[0,1,2,3,4,5,6,7,8,9,10,11,12,13,14,15,16,17,18,19,20,21,22],\"y\":[0.6934025883674622,0.6931214928627014,0.6930351257324219,0.6929976344108582,0.6929702162742615,0.6929565072059631,0.6929376125335693,0.6929248571395874,0.6929086446762085,0.6928969621658325,0.6928813457489014,0.6928688883781433,0.6928526163101196,0.6928532719612122,0.692827582359314,0.6928310394287109,0.6928082704544067,0.6928101778030396,0.6927873492240906,0.6927911639213562,0.6927598714828491,0.692766547203064,0.6927369236946106],\"type\":\"scatter\",\"xaxis\":\"x\",\"yaxis\":\"y\"},{\"name\":\"loss_test\",\"x\":[0,1,2,3,4,5,6,7,8,9,10,11,12,13,14,15,16,17,18,19,20,21,22],\"y\":[0.6925208568572998,0.6924673914909363,0.6923573017120361,0.6923144459724426,0.6922875046730042,0.6922628879547119,0.69223952293396,0.692225992679596,0.6921934485435486,0.6921896934509277,0.6921677589416504,0.6921480298042297,0.6921460032463074,0.6921289563179016,0.6921110153198242,0.6921170353889465,0.6920834183692932,0.6920814514160156,0.6920650601387024,0.6920571327209473,0.6920254230499268,0.6920284628868103,0.6919891834259033],\"type\":\"scatter\",\"xaxis\":\"x\",\"yaxis\":\"y\"},{\"name\":\"auc_train\",\"x\":[0,1,2,3,4,5,6,7,8,9,10,11,12,13,14,15,16,17,18,19,20,21,22],\"y\":[0.5055,0.5078,0.5064,0.5024,0.5023,0.5012,0.5016,0.5022,0.5031,0.5038,0.5048,0.5058,0.5067,0.5067,0.508,0.5081,0.5092,0.5091,0.5104,0.5103,0.512,0.5115,0.5129],\"type\":\"scatter\",\"xaxis\":\"x\",\"yaxis\":\"y2\"},{\"name\":\"auc_test\",\"x\":[0,1,2,3,4,5,6,7,8,9,10,11,12,13,14,15,16,17,18,19,20,21,22],\"y\":[0.5305,0.5284,0.5279,0.5345,0.533,0.5337,0.5312,0.5307,0.5304,0.5304,0.5301,0.5305,0.5294,0.5305,0.5288,0.5297,0.5274,0.5305,0.5275,0.5291,0.5284,0.5283,0.5288],\"type\":\"scatter\",\"xaxis\":\"x\",\"yaxis\":\"y2\"}],                        {\"template\":{\"data\":{\"histogram2dcontour\":[{\"type\":\"histogram2dcontour\",\"colorbar\":{\"outlinewidth\":0,\"ticks\":\"\"},\"colorscale\":[[0.0,\"#0d0887\"],[0.1111111111111111,\"#46039f\"],[0.2222222222222222,\"#7201a8\"],[0.3333333333333333,\"#9c179e\"],[0.4444444444444444,\"#bd3786\"],[0.5555555555555556,\"#d8576b\"],[0.6666666666666666,\"#ed7953\"],[0.7777777777777778,\"#fb9f3a\"],[0.8888888888888888,\"#fdca26\"],[1.0,\"#f0f921\"]]}],\"choropleth\":[{\"type\":\"choropleth\",\"colorbar\":{\"outlinewidth\":0,\"ticks\":\"\"}}],\"histogram2d\":[{\"type\":\"histogram2d\",\"colorbar\":{\"outlinewidth\":0,\"ticks\":\"\"},\"colorscale\":[[0.0,\"#0d0887\"],[0.1111111111111111,\"#46039f\"],[0.2222222222222222,\"#7201a8\"],[0.3333333333333333,\"#9c179e\"],[0.4444444444444444,\"#bd3786\"],[0.5555555555555556,\"#d8576b\"],[0.6666666666666666,\"#ed7953\"],[0.7777777777777778,\"#fb9f3a\"],[0.8888888888888888,\"#fdca26\"],[1.0,\"#f0f921\"]]}],\"heatmap\":[{\"type\":\"heatmap\",\"colorbar\":{\"outlinewidth\":0,\"ticks\":\"\"},\"colorscale\":[[0.0,\"#0d0887\"],[0.1111111111111111,\"#46039f\"],[0.2222222222222222,\"#7201a8\"],[0.3333333333333333,\"#9c179e\"],[0.4444444444444444,\"#bd3786\"],[0.5555555555555556,\"#d8576b\"],[0.6666666666666666,\"#ed7953\"],[0.7777777777777778,\"#fb9f3a\"],[0.8888888888888888,\"#fdca26\"],[1.0,\"#f0f921\"]]}],\"heatmapgl\":[{\"type\":\"heatmapgl\",\"colorbar\":{\"outlinewidth\":0,\"ticks\":\"\"},\"colorscale\":[[0.0,\"#0d0887\"],[0.1111111111111111,\"#46039f\"],[0.2222222222222222,\"#7201a8\"],[0.3333333333333333,\"#9c179e\"],[0.4444444444444444,\"#bd3786\"],[0.5555555555555556,\"#d8576b\"],[0.6666666666666666,\"#ed7953\"],[0.7777777777777778,\"#fb9f3a\"],[0.8888888888888888,\"#fdca26\"],[1.0,\"#f0f921\"]]}],\"contourcarpet\":[{\"type\":\"contourcarpet\",\"colorbar\":{\"outlinewidth\":0,\"ticks\":\"\"}}],\"contour\":[{\"type\":\"contour\",\"colorbar\":{\"outlinewidth\":0,\"ticks\":\"\"},\"colorscale\":[[0.0,\"#0d0887\"],[0.1111111111111111,\"#46039f\"],[0.2222222222222222,\"#7201a8\"],[0.3333333333333333,\"#9c179e\"],[0.4444444444444444,\"#bd3786\"],[0.5555555555555556,\"#d8576b\"],[0.6666666666666666,\"#ed7953\"],[0.7777777777777778,\"#fb9f3a\"],[0.8888888888888888,\"#fdca26\"],[1.0,\"#f0f921\"]]}],\"surface\":[{\"type\":\"surface\",\"colorbar\":{\"outlinewidth\":0,\"ticks\":\"\"},\"colorscale\":[[0.0,\"#0d0887\"],[0.1111111111111111,\"#46039f\"],[0.2222222222222222,\"#7201a8\"],[0.3333333333333333,\"#9c179e\"],[0.4444444444444444,\"#bd3786\"],[0.5555555555555556,\"#d8576b\"],[0.6666666666666666,\"#ed7953\"],[0.7777777777777778,\"#fb9f3a\"],[0.8888888888888888,\"#fdca26\"],[1.0,\"#f0f921\"]]}],\"mesh3d\":[{\"type\":\"mesh3d\",\"colorbar\":{\"outlinewidth\":0,\"ticks\":\"\"}}],\"scatter\":[{\"fillpattern\":{\"fillmode\":\"overlay\",\"size\":10,\"solidity\":0.2},\"type\":\"scatter\"}],\"parcoords\":[{\"type\":\"parcoords\",\"line\":{\"colorbar\":{\"outlinewidth\":0,\"ticks\":\"\"}}}],\"scatterpolargl\":[{\"type\":\"scatterpolargl\",\"marker\":{\"colorbar\":{\"outlinewidth\":0,\"ticks\":\"\"}}}],\"bar\":[{\"error_x\":{\"color\":\"#2a3f5f\"},\"error_y\":{\"color\":\"#2a3f5f\"},\"marker\":{\"line\":{\"color\":\"white\",\"width\":0.5},\"pattern\":{\"fillmode\":\"overlay\",\"size\":10,\"solidity\":0.2}},\"type\":\"bar\"}],\"scattergeo\":[{\"type\":\"scattergeo\",\"marker\":{\"colorbar\":{\"outlinewidth\":0,\"ticks\":\"\"}}}],\"scatterpolar\":[{\"type\":\"scatterpolar\",\"marker\":{\"colorbar\":{\"outlinewidth\":0,\"ticks\":\"\"}}}],\"histogram\":[{\"marker\":{\"pattern\":{\"fillmode\":\"overlay\",\"size\":10,\"solidity\":0.2}},\"type\":\"histogram\"}],\"scattergl\":[{\"type\":\"scattergl\",\"marker\":{\"colorbar\":{\"outlinewidth\":0,\"ticks\":\"\"}}}],\"scatter3d\":[{\"type\":\"scatter3d\",\"line\":{\"colorbar\":{\"outlinewidth\":0,\"ticks\":\"\"}},\"marker\":{\"colorbar\":{\"outlinewidth\":0,\"ticks\":\"\"}}}],\"scattermapbox\":[{\"type\":\"scattermapbox\",\"marker\":{\"colorbar\":{\"outlinewidth\":0,\"ticks\":\"\"}}}],\"scatterternary\":[{\"type\":\"scatterternary\",\"marker\":{\"colorbar\":{\"outlinewidth\":0,\"ticks\":\"\"}}}],\"scattercarpet\":[{\"type\":\"scattercarpet\",\"marker\":{\"colorbar\":{\"outlinewidth\":0,\"ticks\":\"\"}}}],\"carpet\":[{\"aaxis\":{\"endlinecolor\":\"#2a3f5f\",\"gridcolor\":\"#C8D4E3\",\"linecolor\":\"#C8D4E3\",\"minorgridcolor\":\"#C8D4E3\",\"startlinecolor\":\"#2a3f5f\"},\"baxis\":{\"endlinecolor\":\"#2a3f5f\",\"gridcolor\":\"#C8D4E3\",\"linecolor\":\"#C8D4E3\",\"minorgridcolor\":\"#C8D4E3\",\"startlinecolor\":\"#2a3f5f\"},\"type\":\"carpet\"}],\"table\":[{\"cells\":{\"fill\":{\"color\":\"#EBF0F8\"},\"line\":{\"color\":\"white\"}},\"header\":{\"fill\":{\"color\":\"#C8D4E3\"},\"line\":{\"color\":\"white\"}},\"type\":\"table\"}],\"barpolar\":[{\"marker\":{\"line\":{\"color\":\"white\",\"width\":0.5},\"pattern\":{\"fillmode\":\"overlay\",\"size\":10,\"solidity\":0.2}},\"type\":\"barpolar\"}],\"pie\":[{\"automargin\":true,\"type\":\"pie\"}]},\"layout\":{\"autotypenumbers\":\"strict\",\"colorway\":[\"#636efa\",\"#EF553B\",\"#00cc96\",\"#ab63fa\",\"#FFA15A\",\"#19d3f3\",\"#FF6692\",\"#B6E880\",\"#FF97FF\",\"#FECB52\"],\"font\":{\"color\":\"#2a3f5f\"},\"hovermode\":\"closest\",\"hoverlabel\":{\"align\":\"left\"},\"paper_bgcolor\":\"white\",\"plot_bgcolor\":\"white\",\"polar\":{\"bgcolor\":\"white\",\"angularaxis\":{\"gridcolor\":\"#EBF0F8\",\"linecolor\":\"#EBF0F8\",\"ticks\":\"\"},\"radialaxis\":{\"gridcolor\":\"#EBF0F8\",\"linecolor\":\"#EBF0F8\",\"ticks\":\"\"}},\"ternary\":{\"bgcolor\":\"white\",\"aaxis\":{\"gridcolor\":\"#DFE8F3\",\"linecolor\":\"#A2B1C6\",\"ticks\":\"\"},\"baxis\":{\"gridcolor\":\"#DFE8F3\",\"linecolor\":\"#A2B1C6\",\"ticks\":\"\"},\"caxis\":{\"gridcolor\":\"#DFE8F3\",\"linecolor\":\"#A2B1C6\",\"ticks\":\"\"}},\"coloraxis\":{\"colorbar\":{\"outlinewidth\":0,\"ticks\":\"\"}},\"colorscale\":{\"sequential\":[[0.0,\"#0d0887\"],[0.1111111111111111,\"#46039f\"],[0.2222222222222222,\"#7201a8\"],[0.3333333333333333,\"#9c179e\"],[0.4444444444444444,\"#bd3786\"],[0.5555555555555556,\"#d8576b\"],[0.6666666666666666,\"#ed7953\"],[0.7777777777777778,\"#fb9f3a\"],[0.8888888888888888,\"#fdca26\"],[1.0,\"#f0f921\"]],\"sequentialminus\":[[0.0,\"#0d0887\"],[0.1111111111111111,\"#46039f\"],[0.2222222222222222,\"#7201a8\"],[0.3333333333333333,\"#9c179e\"],[0.4444444444444444,\"#bd3786\"],[0.5555555555555556,\"#d8576b\"],[0.6666666666666666,\"#ed7953\"],[0.7777777777777778,\"#fb9f3a\"],[0.8888888888888888,\"#fdca26\"],[1.0,\"#f0f921\"]],\"diverging\":[[0,\"#8e0152\"],[0.1,\"#c51b7d\"],[0.2,\"#de77ae\"],[0.3,\"#f1b6da\"],[0.4,\"#fde0ef\"],[0.5,\"#f7f7f7\"],[0.6,\"#e6f5d0\"],[0.7,\"#b8e186\"],[0.8,\"#7fbc41\"],[0.9,\"#4d9221\"],[1,\"#276419\"]]},\"xaxis\":{\"gridcolor\":\"#EBF0F8\",\"linecolor\":\"#EBF0F8\",\"ticks\":\"\",\"title\":{\"standoff\":15},\"zerolinecolor\":\"#EBF0F8\",\"automargin\":true,\"zerolinewidth\":2},\"yaxis\":{\"gridcolor\":\"#EBF0F8\",\"linecolor\":\"#EBF0F8\",\"ticks\":\"\",\"title\":{\"standoff\":15},\"zerolinecolor\":\"#EBF0F8\",\"automargin\":true,\"zerolinewidth\":2},\"scene\":{\"xaxis\":{\"backgroundcolor\":\"white\",\"gridcolor\":\"#DFE8F3\",\"linecolor\":\"#EBF0F8\",\"showbackground\":true,\"ticks\":\"\",\"zerolinecolor\":\"#EBF0F8\",\"gridwidth\":2},\"yaxis\":{\"backgroundcolor\":\"white\",\"gridcolor\":\"#DFE8F3\",\"linecolor\":\"#EBF0F8\",\"showbackground\":true,\"ticks\":\"\",\"zerolinecolor\":\"#EBF0F8\",\"gridwidth\":2},\"zaxis\":{\"backgroundcolor\":\"white\",\"gridcolor\":\"#DFE8F3\",\"linecolor\":\"#EBF0F8\",\"showbackground\":true,\"ticks\":\"\",\"zerolinecolor\":\"#EBF0F8\",\"gridwidth\":2}},\"shapedefaults\":{\"line\":{\"color\":\"#2a3f5f\"}},\"annotationdefaults\":{\"arrowcolor\":\"#2a3f5f\",\"arrowhead\":0,\"arrowwidth\":1},\"geo\":{\"bgcolor\":\"white\",\"landcolor\":\"white\",\"subunitcolor\":\"#C8D4E3\",\"showland\":true,\"showlakes\":true,\"lakecolor\":\"white\"},\"title\":{\"x\":0.05},\"mapbox\":{\"style\":\"light\"}}},\"xaxis\":{\"anchor\":\"y\",\"domain\":[0.0,0.94],\"title\":{\"text\":\"epoch\"}},\"yaxis\":{\"anchor\":\"x\",\"domain\":[0.0,1.0],\"title\":{\"text\":\"loss\"}},\"yaxis2\":{\"anchor\":\"x\",\"overlaying\":\"y\",\"side\":\"right\",\"title\":{\"text\":\"auc\"}}},                        {\"responsive\": true}                    ).then(function(){\n",
              "                            \n",
              "var gd = document.getElementById('0106957f-38d6-4501-a9ce-37e989b38af0');\n",
              "var x = new MutationObserver(function (mutations, observer) {{\n",
              "        var display = window.getComputedStyle(gd).display;\n",
              "        if (!display || display === 'none') {{\n",
              "            console.log([gd, 'removed!']);\n",
              "            Plotly.purge(gd);\n",
              "            observer.disconnect();\n",
              "        }}\n",
              "}});\n",
              "\n",
              "// Listen for the removal of the full notebook cells\n",
              "var notebookContainer = gd.closest('#notebook-container');\n",
              "if (notebookContainer) {{\n",
              "    x.observe(notebookContainer, {childList: true});\n",
              "}}\n",
              "\n",
              "// Listen for the clearing of the current output cell\n",
              "var outputEl = gd.closest('.output');\n",
              "if (outputEl) {{\n",
              "    x.observe(outputEl, {childList: true});\n",
              "}}\n",
              "\n",
              "                        })                };                            </script>        </div>\n",
              "</body>\n",
              "</html>"
            ]
          },
          "metadata": {}
        }
      ]
    },
    {
      "cell_type": "markdown",
      "source": [
        "# 5. Cross-Validation"
      ],
      "metadata": {
        "id": "BzoOTCqi6oLS"
      }
    },
    {
      "cell_type": "code",
      "source": [
        "batch_size = 500\n",
        "num_generated_batches_train = 100\n",
        "num_generated_batches_val = 10\n",
        "n_epochs, e_patience = 100, 10"
      ],
      "metadata": {
        "id": "eev5YzmH63xj"
      },
      "execution_count": 27,
      "outputs": []
    },
    {
      "cell_type": "code",
      "source": [
        "batch_size*num_generated_batches_train"
      ],
      "metadata": {
        "colab": {
          "base_uri": "https://localhost:8080/"
        },
        "id": "j_SzzZYP67DD",
        "outputId": "b23d576f-cd89-4eac-8b42-20945afef0e0"
      },
      "execution_count": 28,
      "outputs": [
        {
          "output_type": "execute_result",
          "data": {
            "text/plain": [
              "50000"
            ]
          },
          "metadata": {},
          "execution_count": 28
        }
      ]
    },
    {
      "cell_type": "code",
      "source": [
        "train_df = pd.concat([train_df, test_df], axis=0).reset_index(drop=True)"
      ],
      "metadata": {
        "id": "n4Vu1Bqx9Yyh"
      },
      "execution_count": 29,
      "outputs": []
    },
    {
      "cell_type": "code",
      "source": [
        "from sklearn.model_selection import cross_val_score, KFold, StratifiedKFold\n",
        "\n",
        "seed = 123\n",
        "kfolds = StratifiedKFold(n_splits=3, shuffle=True, random_state=seed)\n",
        "\n",
        "test_aucs = {}\n",
        "\n",
        "for i, (train_index, test_index) in enumerate(kfolds.split(train_df, train_df.label)):\n",
        "    print(\"---\"*10)\n",
        "    print(f\"Fold {i+1}/{kfolds.n_splits}\")\n",
        "\n",
        "    train_df_kf = train_df.iloc[train_index].reset_index(drop=True)\n",
        "    test_df_kf = train_df.iloc[test_index].reset_index(drop=True)\n",
        "\n",
        "    print('   Generate train data ...')\n",
        "\n",
        "    train_data = RecBatch(\n",
        "        data = train_df_kf,\n",
        "        cols_sparse = [c+'_enc' for c in cols_sparse],\n",
        "        cols_dense = cols_dense,\n",
        "        col_label = \"label\",\n",
        "        batch_size = batch_size,\n",
        "        num_generated_batches = num_generated_batches_train,\n",
        "        seed = seed,\n",
        "        device= device\n",
        "    )\n",
        "\n",
        "    print('   Generate test data ...')\n",
        "\n",
        "    test_data = RecBatch(\n",
        "        data = test_df_kf,\n",
        "        cols_sparse = [c+'_enc' for c in cols_sparse],\n",
        "        cols_dense = cols_dense,\n",
        "        col_label = \"label\",\n",
        "        batch_size = batch_size,\n",
        "        num_generated_batches = num_generated_batches_val,\n",
        "        seed = seed,\n",
        "        device= device\n",
        "    )\n",
        "\n",
        "    model_dlrm = DLRMCustom(\n",
        "        cols_dense, cols_sparse,\n",
        "        embedding_dim, num_embeddings_per_feature,\n",
        "        dense_arch_layer_sizes, over_arch_layer_sizes,\n",
        "        adagrad, learning_rate, eps,\n",
        "        device)\n",
        "\n",
        "    scores = model_dlrm.train_test(train_data, test_data, n_epochs, e_patience)\n",
        "    scores = pd.DataFrame(scores).T.reset_index().rename(columns = {'index':'epoch'})\n",
        "\n",
        "    print('   Scores:')\n",
        "    print(scores.iloc[-5:])\n",
        "\n",
        "    labels, preds, losses_test, auc_test = model_dlrm.evaluate(test_data)\n",
        "    print(\"   Test AUC:\", round(auc_test, 4))\n",
        "\n",
        "    test_aucs[i] = auc_test\n"
      ],
      "metadata": {
        "colab": {
          "base_uri": "https://localhost:8080/"
        },
        "id": "Y2YKwjez63ZF",
        "outputId": "a2523bb4-33ef-4b9a-d300-e24318519fe4"
      },
      "execution_count": 30,
      "outputs": [
        {
          "output_type": "stream",
          "name": "stdout",
          "text": [
            "------------------------------\n",
            "Fold 1/3\n",
            "   Generate train data ...\n",
            "replace True\n",
            "   Generate test data ...\n",
            "replace True\n"
          ]
        },
        {
          "output_type": "stream",
          "name": "stderr",
          "text": [
            " 62%|██████▏   | 62/100 [00:32<00:20,  1.90it/s, epoch=63, loss_train=0.685, losses_test=0.696, auc_train=0.571, auc_test=0.524]\n"
          ]
        },
        {
          "output_type": "stream",
          "name": "stdout",
          "text": [
            "Early stopping\n",
            "   Scores:\n",
            "    epoch  loss_train  loss_test  auc_train  auc_test\n",
            "58     58    0.685878   0.697065     0.5659    0.5210\n",
            "59     59    0.685507   0.697801     0.5671    0.5227\n",
            "60     60    0.684978   0.695432     0.5697    0.5248\n",
            "61     61    0.684526   0.697813     0.5715    0.5241\n",
            "62     62    0.684680   0.695828     0.5710    0.5241\n",
            "   Test AUC: 0.5241\n",
            "------------------------------\n",
            "Fold 2/3\n",
            "   Generate train data ...\n",
            "replace True\n",
            "   Generate test data ...\n",
            "replace True\n"
          ]
        },
        {
          "output_type": "stream",
          "name": "stderr",
          "text": [
            " 94%|█████████▍| 94/100 [00:44<00:02,  2.13it/s, epoch=95, loss_train=0.673, losses_test=0.719, auc_train=0.609, auc_test=0.5]\n"
          ]
        },
        {
          "output_type": "stream",
          "name": "stdout",
          "text": [
            "Early stopping\n",
            "   Scores:\n",
            "    epoch  loss_train  loss_test  auc_train  auc_test\n",
            "90     90    0.674196   0.714838     0.6053    0.4925\n",
            "91     91    0.672693   0.716547     0.6099    0.5107\n",
            "92     92    0.673487   0.714668     0.6080    0.5035\n",
            "93     93    0.675512   0.712997     0.6018    0.4999\n",
            "94     94    0.672610   0.719446     0.6089    0.5002\n",
            "   Test AUC: 0.5002\n",
            "------------------------------\n",
            "Fold 3/3\n",
            "   Generate train data ...\n",
            "replace True\n",
            "   Generate test data ...\n",
            "replace True\n"
          ]
        },
        {
          "output_type": "stream",
          "name": "stderr",
          "text": [
            " 94%|█████████▍| 94/100 [00:44<00:02,  2.13it/s, epoch=95, loss_train=0.659, losses_test=0.734, auc_train=0.642, auc_test=0.489]"
          ]
        },
        {
          "output_type": "stream",
          "name": "stdout",
          "text": [
            "Early stopping\n",
            "   Scores:\n",
            "    epoch  loss_train  loss_test  auc_train  auc_test\n",
            "90     90    0.660853   0.732778     0.6366    0.4764\n",
            "91     91    0.663043   0.731722     0.6314    0.4958\n",
            "92     92    0.659055   0.737153     0.6399    0.4735\n",
            "93     93    0.662437   0.729665     0.6325    0.4896\n",
            "94     94    0.658766   0.734510     0.6419    0.4888\n",
            "   Test AUC: 0.4888\n"
          ]
        },
        {
          "output_type": "stream",
          "name": "stderr",
          "text": [
            "\n"
          ]
        }
      ]
    },
    {
      "cell_type": "code",
      "source": [
        "test_aucs = pd.DataFrame.from_dict(test_aucs, orient='index').\\\n",
        "              reset_index().\\\n",
        "              rename(columns = {'index': 'epoch', 0:'val_auc'})\n",
        "\n",
        "test_aucs"
      ],
      "metadata": {
        "colab": {
          "base_uri": "https://localhost:8080/",
          "height": 143
        },
        "id": "k1k5IPYi6nBo",
        "outputId": "0ee10638-1e8e-4036-9514-9c72423d7e1c"
      },
      "execution_count": 31,
      "outputs": [
        {
          "output_type": "execute_result",
          "data": {
            "text/plain": [
              "   epoch   val_auc\n",
              "0      0  0.524127\n",
              "1      1  0.500151\n",
              "2      2  0.488800"
            ],
            "text/html": [
              "\n",
              "  <div id=\"df-b18050d7-0f16-4ba2-a478-f3a9c4a77cd5\">\n",
              "    <div class=\"colab-df-container\">\n",
              "      <div>\n",
              "<style scoped>\n",
              "    .dataframe tbody tr th:only-of-type {\n",
              "        vertical-align: middle;\n",
              "    }\n",
              "\n",
              "    .dataframe tbody tr th {\n",
              "        vertical-align: top;\n",
              "    }\n",
              "\n",
              "    .dataframe thead th {\n",
              "        text-align: right;\n",
              "    }\n",
              "</style>\n",
              "<table border=\"1\" class=\"dataframe\">\n",
              "  <thead>\n",
              "    <tr style=\"text-align: right;\">\n",
              "      <th></th>\n",
              "      <th>epoch</th>\n",
              "      <th>val_auc</th>\n",
              "    </tr>\n",
              "  </thead>\n",
              "  <tbody>\n",
              "    <tr>\n",
              "      <th>0</th>\n",
              "      <td>0</td>\n",
              "      <td>0.524127</td>\n",
              "    </tr>\n",
              "    <tr>\n",
              "      <th>1</th>\n",
              "      <td>1</td>\n",
              "      <td>0.500151</td>\n",
              "    </tr>\n",
              "    <tr>\n",
              "      <th>2</th>\n",
              "      <td>2</td>\n",
              "      <td>0.488800</td>\n",
              "    </tr>\n",
              "  </tbody>\n",
              "</table>\n",
              "</div>\n",
              "      <button class=\"colab-df-convert\" onclick=\"convertToInteractive('df-b18050d7-0f16-4ba2-a478-f3a9c4a77cd5')\"\n",
              "              title=\"Convert this dataframe to an interactive table.\"\n",
              "              style=\"display:none;\">\n",
              "        \n",
              "  <svg xmlns=\"http://www.w3.org/2000/svg\" height=\"24px\"viewBox=\"0 0 24 24\"\n",
              "       width=\"24px\">\n",
              "    <path d=\"M0 0h24v24H0V0z\" fill=\"none\"/>\n",
              "    <path d=\"M18.56 5.44l.94 2.06.94-2.06 2.06-.94-2.06-.94-.94-2.06-.94 2.06-2.06.94zm-11 1L8.5 8.5l.94-2.06 2.06-.94-2.06-.94L8.5 2.5l-.94 2.06-2.06.94zm10 10l.94 2.06.94-2.06 2.06-.94-2.06-.94-.94-2.06-.94 2.06-2.06.94z\"/><path d=\"M17.41 7.96l-1.37-1.37c-.4-.4-.92-.59-1.43-.59-.52 0-1.04.2-1.43.59L10.3 9.45l-7.72 7.72c-.78.78-.78 2.05 0 2.83L4 21.41c.39.39.9.59 1.41.59.51 0 1.02-.2 1.41-.59l7.78-7.78 2.81-2.81c.8-.78.8-2.07 0-2.86zM5.41 20L4 18.59l7.72-7.72 1.47 1.35L5.41 20z\"/>\n",
              "  </svg>\n",
              "      </button>\n",
              "      \n",
              "  <style>\n",
              "    .colab-df-container {\n",
              "      display:flex;\n",
              "      flex-wrap:wrap;\n",
              "      gap: 12px;\n",
              "    }\n",
              "\n",
              "    .colab-df-convert {\n",
              "      background-color: #E8F0FE;\n",
              "      border: none;\n",
              "      border-radius: 50%;\n",
              "      cursor: pointer;\n",
              "      display: none;\n",
              "      fill: #1967D2;\n",
              "      height: 32px;\n",
              "      padding: 0 0 0 0;\n",
              "      width: 32px;\n",
              "    }\n",
              "\n",
              "    .colab-df-convert:hover {\n",
              "      background-color: #E2EBFA;\n",
              "      box-shadow: 0px 1px 2px rgba(60, 64, 67, 0.3), 0px 1px 3px 1px rgba(60, 64, 67, 0.15);\n",
              "      fill: #174EA6;\n",
              "    }\n",
              "\n",
              "    [theme=dark] .colab-df-convert {\n",
              "      background-color: #3B4455;\n",
              "      fill: #D2E3FC;\n",
              "    }\n",
              "\n",
              "    [theme=dark] .colab-df-convert:hover {\n",
              "      background-color: #434B5C;\n",
              "      box-shadow: 0px 1px 3px 1px rgba(0, 0, 0, 0.15);\n",
              "      filter: drop-shadow(0px 1px 2px rgba(0, 0, 0, 0.3));\n",
              "      fill: #FFFFFF;\n",
              "    }\n",
              "  </style>\n",
              "\n",
              "      <script>\n",
              "        const buttonEl =\n",
              "          document.querySelector('#df-b18050d7-0f16-4ba2-a478-f3a9c4a77cd5 button.colab-df-convert');\n",
              "        buttonEl.style.display =\n",
              "          google.colab.kernel.accessAllowed ? 'block' : 'none';\n",
              "\n",
              "        async function convertToInteractive(key) {\n",
              "          const element = document.querySelector('#df-b18050d7-0f16-4ba2-a478-f3a9c4a77cd5');\n",
              "          const dataTable =\n",
              "            await google.colab.kernel.invokeFunction('convertToInteractive',\n",
              "                                                     [key], {});\n",
              "          if (!dataTable) return;\n",
              "\n",
              "          const docLinkHtml = 'Like what you see? Visit the ' +\n",
              "            '<a target=\"_blank\" href=https://colab.research.google.com/notebooks/data_table.ipynb>data table notebook</a>'\n",
              "            + ' to learn more about interactive tables.';\n",
              "          element.innerHTML = '';\n",
              "          dataTable['output_type'] = 'display_data';\n",
              "          await google.colab.output.renderOutput(dataTable, element);\n",
              "          const docLink = document.createElement('div');\n",
              "          docLink.innerHTML = docLinkHtml;\n",
              "          element.appendChild(docLink);\n",
              "        }\n",
              "      </script>\n",
              "    </div>\n",
              "  </div>\n",
              "  "
            ]
          },
          "metadata": {},
          "execution_count": 31
        }
      ]
    }
  ]
}